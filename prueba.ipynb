{
 "cells": [
  {
   "cell_type": "code",
   "execution_count": 2,
   "id": "initial_id",
   "metadata": {
    "collapsed": true,
    "ExecuteTime": {
     "end_time": "2023-09-07T22:24:45.921746900Z",
     "start_time": "2023-09-07T22:24:42.733191800Z"
    }
   },
   "outputs": [],
   "source": [
    "import docs\n",
    "\n",
    "a = docs.dimension('D')"
   ]
  },
  {
   "cell_type": "code",
   "execution_count": 3,
   "outputs": [
    {
     "data": {
      "text/plain": "2"
     },
     "execution_count": 3,
     "metadata": {},
     "output_type": "execute_result"
    }
   ],
   "source": [
    "a"
   ],
   "metadata": {
    "collapsed": false,
    "ExecuteTime": {
     "end_time": "2023-09-07T22:24:50.924089100Z",
     "start_time": "2023-09-07T22:24:50.883338200Z"
    }
   },
   "id": "ae4a138b2e0db242"
  },
  {
   "cell_type": "code",
   "execution_count": 4,
   "outputs": [],
   "source": [
    "q = docs.createVector(a)"
   ],
   "metadata": {
    "collapsed": false,
    "ExecuteTime": {
     "end_time": "2023-09-07T22:26:16.217167100Z",
     "start_time": "2023-09-07T22:26:16.154581100Z"
    }
   },
   "id": "c2da2c3d8e3806a0"
  },
  {
   "cell_type": "code",
   "execution_count": 5,
   "outputs": [
    {
     "data": {
      "text/plain": "[0, 0]"
     },
     "execution_count": 5,
     "metadata": {},
     "output_type": "execute_result"
    }
   ],
   "source": [
    "q"
   ],
   "metadata": {
    "collapsed": false,
    "ExecuteTime": {
     "end_time": "2023-09-07T22:26:18.450715800Z",
     "start_time": "2023-09-07T22:26:18.397038300Z"
    }
   },
   "id": "48005de26b330bb2"
  },
  {
   "cell_type": "code",
   "execution_count": 6,
   "outputs": [
    {
     "name": "stdout",
     "output_type": "stream",
     "text": [
      "Ingrese los datos del vector: {D}\n"
     ]
    }
   ],
   "source": [
    "docs.data(q, 'D')"
   ],
   "metadata": {
    "collapsed": false,
    "ExecuteTime": {
     "end_time": "2023-09-07T22:28:40.824960900Z",
     "start_time": "2023-09-07T22:27:55.955976500Z"
    }
   },
   "id": "56747e86ba456384"
  },
  {
   "cell_type": "code",
   "execution_count": null,
   "outputs": [],
   "source": [
    "s = docs.add(q, )"
   ],
   "metadata": {
    "collapsed": false
   },
   "id": "cf427252100ec156"
  },
  {
   "cell_type": "code",
   "execution_count": 7,
   "outputs": [
    {
     "name": "stdout",
     "output_type": "stream",
     "text": [
      "C:  None\n"
     ]
    }
   ],
   "source": [
    "import docs as vp\n",
    "\n",
    "filas, columnas = vp.dimensiones('A')\n",
    "# print('Dimensiones de (A): Filas: %d Columnas: %d'%(filas, columnas))\n",
    "A = vp.createMatrix(filas, columnas)\n",
    "# print('A: ', A)\n",
    "vp.dataMatrix(A,'A')\n",
    "# print('A: ',A)\n",
    "filas, columnas = vp.dimensiones('B')\n",
    "B = vp.createMatrix(filas, columnas)\n",
    "vp.dataMatrix(B,'B')\n",
    "C = vp.addMatrix(A,B)\n",
    "print('C: ',C)"
   ],
   "metadata": {
    "collapsed": false,
    "ExecuteTime": {
     "end_time": "2023-09-07T22:33:13.085931700Z",
     "start_time": "2023-09-07T22:32:35.124194Z"
    }
   },
   "id": "930c017bf1f1d859"
  },
  {
   "cell_type": "code",
   "execution_count": null,
   "outputs": [],
   "source": [],
   "metadata": {
    "collapsed": false
   },
   "id": "3fe4e03011dec5ea"
  }
 ],
 "metadata": {
  "kernelspec": {
   "display_name": "Python 3",
   "language": "python",
   "name": "python3"
  },
  "language_info": {
   "codemirror_mode": {
    "name": "ipython",
    "version": 2
   },
   "file_extension": ".py",
   "mimetype": "text/x-python",
   "name": "python",
   "nbconvert_exporter": "python",
   "pygments_lexer": "ipython2",
   "version": "2.7.6"
  }
 },
 "nbformat": 4,
 "nbformat_minor": 5
}
